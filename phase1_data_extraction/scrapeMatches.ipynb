{
  "nbformat": 4,
  "nbformat_minor": 0,
  "metadata": {
    "colab": {
      "provenance": []
    },
    "kernelspec": {
      "name": "python3",
      "display_name": "Python 3"
    },
    "language_info": {
      "name": "python"
    }
  },
  "cells": [
    {
      "cell_type": "code",
      "execution_count": null,
      "metadata": {
        "colab": {
          "base_uri": "https://localhost:8080/"
        },
        "id": "Fmrdh1T2_1y-",
        "outputId": "03aa7a11-b860-4683-818b-c7d3f63fef52"
      },
      "outputs": [
        {
          "output_type": "stream",
          "name": "stdout",
          "text": [
            "Drive already mounted at /content/drive; to attempt to forcibly remount, call drive.mount(\"/content/drive\", force_remount=True).\n",
            "Scraping season 2016/2017...\n",
            "Scraping season 2017/2018...\n",
            "Scraping season 2018/2019...\n",
            "Scraping season 2019/2020...\n",
            "Scraping season 2020/2021...\n",
            "Scraping season 2021/2022...\n",
            "Scraping season 2022/2023...\n",
            "Scraping season 2023/2024...\n",
            "Scraping season 2024/2025...\n",
            "File saved to: /content/drive/My Drive/master_IA/TFM/laliga_2016_2024_matches.csv\n"
          ]
        }
      ],
      "source": [
        "import requests\n",
        "from bs4 import BeautifulSoup\n",
        "import pandas as pd\n",
        "from datetime import datetime\n",
        "from google.colab import drive\n",
        "\n",
        "# Mount Google Drive\n",
        "drive.mount('/content/drive')\n",
        "\n",
        "HEADERS = {\n",
        "    \"User-Agent\": \"Mozilla/5.0 (Windows NT 10.0; Win64; x64)\"\n",
        "}\n",
        "\n",
        "def scrape_laliga_season(season_id=2016, matchday_from=1, matchday_to=38):\n",
        "    \"\"\"\n",
        "    Scrapes LaLiga match results for a given season from Transfermarkt.\n",
        "    Returns a DataFrame with date, home team, away team, goals.\n",
        "    \"\"\"\n",
        "    url = (\n",
        "        f\"https://www.transfermarkt.com/laliga/gesamtspielplan/wettbewerb/ES1\"\n",
        "        f\"?saison_id={season_id}&spieltagVon={matchday_from}&spieltagBis={matchday_to}\"\n",
        "    )\n",
        "\n",
        "    resp = requests.get(url, headers=HEADERS)\n",
        "    resp.raise_for_status()\n",
        "\n",
        "    soup = BeautifulSoup(resp.text, \"html.parser\")\n",
        "    data = []\n",
        "    current_date = None\n",
        "\n",
        "    for table in soup.find_all(\"table\"):\n",
        "        for tbody in table.find_all(\"tbody\"):\n",
        "            for tr in tbody.find_all(\"tr\"):\n",
        "                if \"bg_blau_20\" in tr.get(\"class\", []):  # date row\n",
        "                    date_link = tr.find(\"a\", href=True)\n",
        "                    if date_link:\n",
        "                        try:\n",
        "                            current_date = datetime.strptime(date_link.text.strip(), \"%m/%d/%y\").strftime(\"%Y-%m-%d\")\n",
        "                        except ValueError:\n",
        "                            current_date = None\n",
        "                    continue\n",
        "\n",
        "                tds = tr.find_all(\"td\")\n",
        "                if len(tds) >= 7:\n",
        "                    try:\n",
        "                        home_team = tds[2].get_text(strip=True)\n",
        "                        result = tds[4].get_text(strip=True)\n",
        "                        away_team = tds[6].get_text(strip=True)\n",
        "\n",
        "                        if \":\" in result:\n",
        "                            home_goals, away_goals = result.split(\":\")\n",
        "                            home_goals = int(home_goals.strip())\n",
        "                            away_goals = int(away_goals.strip())\n",
        "                        else:\n",
        "                            home_goals = away_goals = None\n",
        "\n",
        "                        data.append({\n",
        "                            \"season\": f\"{season_id}/{season_id+1}\",\n",
        "                            \"date\": current_date,\n",
        "                            \"home_team\": home_team,\n",
        "                            \"away_team\": away_team,\n",
        "                            \"home_team_goal\": home_goals,\n",
        "                            \"away_team_goal\": away_goals\n",
        "                        })\n",
        "                    except:\n",
        "                        pass\n",
        "\n",
        "    return pd.DataFrame(data)\n",
        "\n",
        "def scrape_multiple_seasons(start_year=2016, end_year=2024):\n",
        "    \"\"\"\n",
        "    Loops through multiple seasons and concatenates them into one DataFrame.\n",
        "    \"\"\"\n",
        "    all_data = []\n",
        "    for year in range(start_year, end_year + 1):\n",
        "        print(f\"Scraping season {year}/{year+1}...\")\n",
        "        season_df = scrape_laliga_season(season_id=year)\n",
        "        all_data.append(season_df)\n",
        "\n",
        "    return pd.concat(all_data, ignore_index=True)\n",
        "\n",
        "# Scrape and save single CSV\n",
        "df_all = scrape_multiple_seasons(2016, 2024)\n",
        "#print(f\"Total matches scraped: {len(df_all)}\")\n",
        "\n",
        "save_path = \"/content/drive/My Drive/master_IA/TFM/laliga_2016_2024_matches.csv\"\n",
        "df_all.to_csv(save_path, index=False)\n",
        "print(f\"File saved to: {save_path}\")\n"
      ]
    },
    {
      "cell_type": "code",
      "source": [],
      "metadata": {
        "id": "NjQEn669CRR_"
      },
      "execution_count": null,
      "outputs": []
    }
  ]
}